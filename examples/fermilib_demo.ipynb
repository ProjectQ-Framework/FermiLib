{
 "cells": [
  {
   "cell_type": "markdown",
   "metadata": {
    "deletable": true,
    "editable": true
   },
   "source": [
    "# Introduction to FermiLib alpha version 0.1a0\n",
    "### Ryan Babbush, Jarrod McClean, Damian Steiger, Ian Kivlichan, Thomas Haner, Vojtech Havlicek, Matthew Neeley and Wei Sun\n",
    "Note that all the examples below must be run sequentially within a section."
   ]
  },
  {
   "cell_type": "markdown",
   "metadata": {
    "deletable": true,
    "editable": true
   },
   "source": [
    "## Initializing the FermionOperator data structure\n",
    "\n",
    "Fermionic systems are often treated in second quantization where arbitrary operators can be expressed using the fermionic creation and annihilation operators, $a^\\dagger_k$ and $a_k$.  The fermionic ladder operators play a similar role to their qubit ladder operator counterparts, $\\sigma^+_k$ and $\\sigma^-_k$ but are distinguished by the cannonical fermionic anticommutation relations, $\\{a^\\dagger_i, a^\\dagger_j\\} = \\{a_i, a_j\\} = 0$ and $\\{a_i, a_j^\\dagger\\} = \\delta_{ij}$. Any weighted sums of products of these operators are represented with the FermionOperator data structure in FermiLib. The following are examples of valid FermionOperators:\n",
    "\n",
    "$$\n",
    "\\begin{align}\n",
    "& a_1 \\nonumber \\\\\n",
    "& 1.7 a^\\dagger_3 \\nonumber \\\\\n",
    "&-1.7 \\, a^\\dagger_3 a_1 \\nonumber \\\\\n",
    "&(1 + 2i) \\, a^\\dagger_4 a^\\dagger_3 a_9 a_1 \\nonumber \\\\\n",
    "&(1 + 2i) \\, a^\\dagger_4 a^\\dagger_3 a_9 a_1 - 1.7 \\, a^\\dagger_3 a_1 \\nonumber\n",
    "\\end{align}\n",
    "$$\n",
    "\n",
    "The FermionOperator class is contained in $\\textrm{ops/_fermion_operators.py}$. In order to support fast addition of FermionOperator instances, the class is implemented as hash table (python dictionary). The keys of the dictionary encode the strings of ladder operators and values of the dictionary store the coefficients. The strings of ladder operators are encoded as a tuple of 2-tuples which we refer to as the \"terms tuple\". Each ladder operator is represented by a 2-tuple. The first element of the 2-tuple is an int indictating the tensor factor on which the ladder operator acts. The second element of the 2-tuple is Boole: 1 represents raising and 0 represents lowering. For instance, $a^\\dagger_8$ is represented in a 2-tuple as $(8, 1)$. Note that indices start at 0 and the identity operator is an empty list. Below we give some examples of operators and their terms tuple:\n",
    "\n",
    "$$\n",
    "\\begin{align}\n",
    "I & \\mapsto () \\nonumber \\\\\n",
    "a_1 & \\mapsto ((1, 0),) \\nonumber \\\\\n",
    "a^\\dagger_3 & \\mapsto ((3, 1),) \\nonumber \\\\\n",
    "a^\\dagger_3 a_1 & \\mapsto ((3, 1), (1, 0)) \\nonumber \\\\\n",
    "a^\\dagger_4 a^\\dagger_3 a_9 a_1 & \\mapsto ((4, 1), (3, 1), (9, 0), (1, 0)) \\nonumber\n",
    "\\end{align}\n",
    "$$\n",
    "\n",
    "Note that when initializing a single ladder operator one should be careful to add the comma after the inner pair. This is because in python ((1, 2)) = (1, 2) whereas ((1, 2),) = ((1, 2),). The \"terms tuple\" is usually convenient when one wishes to initialize a term as part of a coded routine. However, the terms tuple is not particularly intuitive. Accordingly, FermiLib also supports another user-friendly, string notation below. This representation is rendered when calling \"print\" on a FermionOperator.\n",
    "\n",
    "$$\n",
    "\\begin{align}\n",
    "I & \\mapsto \\textrm{\"\"} \\nonumber \\\\\n",
    "a_1 & \\mapsto \\textrm{\"1\"} \\nonumber \\\\\n",
    "a^\\dagger_3 & \\mapsto \\textrm{\"3^\"} \\nonumber \\\\\n",
    "a^\\dagger_3 a_1 & \\mapsto \\textrm{\"3^}\\;\\textrm{1\"} \\nonumber \\\\\n",
    "a^\\dagger_4 a^\\dagger_3 a_9 a_1 & \\mapsto \\textrm{\"4^}\\;\\textrm{3^}\\;\\textrm{9}\\;\\textrm{1\"} \\nonumber\n",
    "\\end{align}\n",
    "$$\n",
    "\n",
    "Let's initialize our first term! We do it two different ways below."
   ]
  },
  {
   "cell_type": "code",
   "execution_count": 1,
   "metadata": {
    "collapsed": false,
    "deletable": true,
    "editable": true
   },
   "outputs": [
    {
     "name": "stdout",
     "output_type": "stream",
     "text": [
      "1.0 [3^ 1]\n",
      "1.0 [3^ 1]\n"
     ]
    }
   ],
   "source": [
    "from fermilib.ops import FermionOperator\n",
    "\n",
    "my_term = FermionOperator(((3, 1), (1, 0)))\n",
    "print(my_term)\n",
    "\n",
    "my_term = FermionOperator('3^ 1')\n",
    "print(my_term)"
   ]
  },
  {
   "cell_type": "markdown",
   "metadata": {
    "deletable": true,
    "editable": true
   },
   "source": [
    "The preferred way to specify the coefficient in FermiLib is to provide an optional coefficient argument. If not provided, the coefficient defaults to 1. In the code below, the first method is preferred. The multiplication in the second method actually creates a copy of the term, which introduces some additional cost. All inplace operands (such as +=) modify classes whereas binary operands such as + create copies. Important caveats are that the empty tuple FermionOperator(()) and the empty string FermionOperator('') initializes identity. The empty initializer FermionOperator() initializes the zero operator."
   ]
  },
  {
   "cell_type": "code",
   "execution_count": 2,
   "metadata": {
    "collapsed": false,
    "deletable": true,
    "editable": true
   },
   "outputs": [
    {
     "name": "stdout",
     "output_type": "stream",
     "text": [
      "-1.7 [3^ 1]\n",
      "-1.7 [3^ 1]\n",
      "1.0 []\n",
      "0\n"
     ]
    }
   ],
   "source": [
    "good_way_to_initialize = FermionOperator('3^ 1', -1.7)\n",
    "print(good_way_to_initialize)\n",
    "\n",
    "bad_way_to_initialize = -1.7 * FermionOperator('3^ 1')\n",
    "print(bad_way_to_initialize)\n",
    "\n",
    "identity = FermionOperator('')\n",
    "print(identity)\n",
    "\n",
    "zero_operator = FermionOperator()\n",
    "print(zero_operator)"
   ]
  },
  {
   "cell_type": "markdown",
   "metadata": {
    "deletable": true,
    "editable": true
   },
   "source": [
    "Note that FermionOperator has only one attribute: .terms. This attribute is the dictionary which stores the term tuples."
   ]
  },
  {
   "cell_type": "code",
   "execution_count": 3,
   "metadata": {
    "collapsed": false,
    "deletable": true,
    "editable": true
   },
   "outputs": [
    {
     "name": "stdout",
     "output_type": "stream",
     "text": [
      "(1+2j) [4^ 1^ 3 9]\n",
      "{((4, 1), (1, 1), (3, 0), (9, 0)): (1+2j)}\n"
     ]
    }
   ],
   "source": [
    "my_operator = FermionOperator('4^ 1^ 3 9', 1. + 2.j)\n",
    "print(my_operator)\n",
    "print(my_operator.terms)"
   ]
  },
  {
   "cell_type": "markdown",
   "metadata": {
    "deletable": true,
    "editable": true
   },
   "source": [
    "## Manipulating the FermionOperator data structure\n",
    "So far we have explained how to initialize a single FermionOperator such as $-1.7 \\, a^\\dagger_3 a_1$. However, in general we will want to represent sums of these operators such as $(1 + 2i) \\, a^\\dagger_4 a^\\dagger_3 a_9 a_1 - 1.7 \\, a^\\dagger_3 a_1$. To do this, just add together two FermionOperators! We demonstrate below."
   ]
  },
  {
   "cell_type": "code",
   "execution_count": 4,
   "metadata": {
    "collapsed": false,
    "deletable": true,
    "editable": true
   },
   "outputs": [
    {
     "name": "stdout",
     "output_type": "stream",
     "text": [
      "(1+2j) [4^ 3^ 9 1] +\n",
      "-1.7 [3^ 1]\n",
      "\n",
      "(1+2j) [4^ 3^ 9 1] +\n",
      "-1.7 [3^ 1]\n"
     ]
    }
   ],
   "source": [
    "from fermilib.ops import FermionOperator\n",
    "\n",
    "term_1 = FermionOperator('4^ 3^ 9 1', 1. + 2.j)\n",
    "term_2 = FermionOperator('3^ 1', -1.7)\n",
    "my_operator = term_1 + term_2\n",
    "print(my_operator)\n",
    "\n",
    "my_operator = FermionOperator('4^ 3^ 9 1', 1. + 2.j)\n",
    "term_2 = FermionOperator('3^ 1', -1.7)\n",
    "my_operator += term_2\n",
    "print('')\n",
    "print(my_operator)"
   ]
  },
  {
   "cell_type": "markdown",
   "metadata": {
    "deletable": true,
    "editable": true
   },
   "source": [
    "The print function prints each term in the operator on a different line. Note that the line my_operator = term_1 + term_2 creates a new object, which involves a copy of term_1 and term_2. The second block of code uses the inplace method +=, which is more efficient. This is especially important when trying to construct a very large FermionOperator. FermionOperators also support a wide range of builtins including, str(), repr(), *=, *, /, /=, +, +=, -, -=, - and **. Note that instead of supporting != and ==, we have the method .isclose(), since FermionOperators involve floats. We demonstrate some of these methods below."
   ]
  },
  {
   "cell_type": "code",
   "execution_count": 5,
   "metadata": {
    "collapsed": false,
    "deletable": true,
    "editable": true
   },
   "outputs": [
    {
     "name": "stdout",
     "output_type": "stream",
     "text": [
      "(1+2j) [4^ 3^ 9 1] +\n",
      "56.1 [3^ 1]\n",
      "\n",
      "(-302.3229-604.6458j) [3^ 1 3^ 1 4^ 3^ 9 1] +\n",
      "(9.1613+18.3226j) [4^ 3^ 9 1 3^ 1 3^ 1] +\n",
      "(16.167-21.556j) [4^ 3^ 9 1 3^ 1 4^ 3^ 9 1] +\n",
      "(-302.3229-604.6458j) [3^ 1 4^ 3^ 9 1 3^ 1] +\n",
      "(-34.87-6.34j) [4^ 3^ 9 1 4^ 3^ 9 1 4^ 3^ 9 1] +\n",
      "(16.167-21.556j) [4^ 3^ 9 1 4^ 3^ 9 1 3^ 1] +\n",
      "513.94893 [3^ 1 3^ 1 3^ 1] +\n",
      "(-533.511+711.348j) [3^ 1 4^ 3^ 9 1 4^ 3^ 9 1]\n",
      "\n",
      "-4.913 [3^ 1 3^ 1 3^ 1]\n",
      "\n",
      "True\n",
      "False\n"
     ]
    }
   ],
   "source": [
    "term_1 = FermionOperator('4^ 3^ 9 1', 1. + 2.j)\n",
    "term_2 = FermionOperator('3^ 1', -1.7)\n",
    "\n",
    "my_operator = term_1 - 33. * term_2\n",
    "print(my_operator)\n",
    "\n",
    "my_operator *= 3.17 * (term_2 + term_1) ** 2\n",
    "print('')\n",
    "print(my_operator)\n",
    "\n",
    "print('')\n",
    "print(term_2 ** 3)\n",
    "\n",
    "print('')\n",
    "print(term_1.isclose(2.*term_1 - term_1))\n",
    "print(term_1.isclose(my_operator))"
   ]
  },
  {
   "cell_type": "markdown",
   "metadata": {
    "deletable": true,
    "editable": true
   },
   "source": [
    "Additionally, there are a variety of methods that act on the FermionOperator data structure. We demonstrate a small subset of those methods here."
   ]
  },
  {
   "cell_type": "code",
   "execution_count": 6,
   "metadata": {
    "collapsed": false,
    "deletable": true,
    "editable": true
   },
   "outputs": [
    {
     "name": "stdout",
     "output_type": "stream",
     "text": [
      "(1-2j) [3 3^ 4]\n",
      "False\n",
      "5\n",
      "\n",
      "(-1-2j) [4^ 3^ 3] +\n",
      "(1+2j) [4^]\n",
      "True\n",
      "\n",
      "(3-4j) [4^ 4^ 3 3^] +\n",
      "(-3+4j) [4^ 3 3^ 4^] +\n",
      "(3-4j) [4^ 3 3^ 4^ 3^ 3] +\n",
      "(-3+4j) [4^ 3^ 3 4^ 3 3^]\n"
     ]
    }
   ],
   "source": [
    "from fermilib.ops import hermitian_conjugated, normal_ordered\n",
    "from fermilib.utils import commutator, count_qubits\n",
    "\n",
    "# Get the Hermitian conjugate of a FermionOperator, count its qubit, check if it is normal-ordered.\n",
    "term_1 = FermionOperator('4^ 3 3^', 1. + 2.j)\n",
    "print(hermitian_conjugated(term_1))\n",
    "print(term_1.is_normal_ordered())\n",
    "print(count_qubits(term_1))\n",
    "\n",
    "# Normal order the term.\n",
    "term_2 = normal_ordered(term_1)\n",
    "print('')\n",
    "print(term_2)\n",
    "print(term_2.is_normal_ordered())\n",
    "\n",
    "# Compute a commutator of the terms.\n",
    "print('')\n",
    "print(commutator(term_1, term_2))"
   ]
  },
  {
   "cell_type": "markdown",
   "metadata": {
    "deletable": true,
    "editable": true
   },
   "source": [
    "## The QubitOperator data structure\n",
    "The QubitOperator data structure is another essential part of FermiLib. While the QubitOperator was originally developed for FermiLib, it is now part of the core ProjectQ library so that it can be interpreted by the ProjectQ compiler using the TimeEvolution gate. As the name suggests, QubitOperator is used to store qubit operators in almost exactly the same way that FermionOperator is used to store fermion operators. For instance $X_0 Z_3 Y_4$ is a QubitOperator. The internal representation of this as a terms tuple would be $((0, \\textrm{\"X\"}), (3, \\textrm{\"Z\"}), (4, \\textrm{\"Y\"}))$. Note that one important difference between QubitOperator and FermionOperator is that the terms in QubitOperator are always sorted in order of tensor factor. In some cases, this enables faster manipulation. We initialize some QubitOperators below."
   ]
  },
  {
   "cell_type": "code",
   "execution_count": 7,
   "metadata": {
    "collapsed": false,
    "deletable": true,
    "editable": true
   },
   "outputs": [
    {
     "name": "stdout",
     "output_type": "stream",
     "text": [
      "1.0 X1 Y2 Z3\n",
      "{((1, 'X'), (2, 'Y'), (3, 'Z')): 1.0}\n",
      "\n",
      "-77.0 X1 Y2 Z3 +\n",
      "3.17 X3 Z4\n"
     ]
    }
   ],
   "source": [
    "from projectq.ops import QubitOperator\n",
    "\n",
    "my_first_qubit_operator = QubitOperator('X1 Y2 Z3')\n",
    "print(my_first_qubit_operator)\n",
    "print(my_first_qubit_operator.terms)\n",
    "\n",
    "operator_2 = QubitOperator('X3 Z4', 3.17)\n",
    "operator_2 -= 77. * my_first_qubit_operator\n",
    "print('')\n",
    "print(operator_2)"
   ]
  },
  {
   "cell_type": "markdown",
   "metadata": {
    "deletable": true,
    "editable": true
   },
   "source": [
    "## Jordan-Wigner and Bravyi-Kitaev\n",
    "FermiLib provides functions for mapping FermionOperators to QubitOperators."
   ]
  },
  {
   "cell_type": "code",
   "execution_count": 8,
   "metadata": {
    "collapsed": false,
    "deletable": true,
    "editable": true
   },
   "outputs": [
    {
     "name": "stdout",
     "output_type": "stream",
     "text": [
      "3.17 [2^ 0] +\n",
      "3.17 [0^ 2]\n",
      "\n",
      "(1.585+0j) Y0 Z1 Y2 +\n",
      "(1.585+0j) X0 Z1 X2\n",
      "[-3.17 -3.17  0.    0.    0.    0.    3.17  3.17]\n",
      "\n",
      "(-1.585+0j) Y0 Y1 +\n",
      "(-1.585+0j) X0 X1 Z2\n",
      "[-3.17 -3.17  0.    0.    0.    0.    3.17  3.17]\n"
     ]
    }
   ],
   "source": [
    "from fermilib.ops import FermionOperator, hermitian_conjugated\n",
    "from fermilib.transforms import jordan_wigner, bravyi_kitaev\n",
    "from fermilib.utils import eigenspectrum\n",
    "\n",
    "# Initialize an operator.\n",
    "fermion_operator = FermionOperator('2^ 0', 3.17)\n",
    "fermion_operator += hermitian_conjugated(fermion_operator)\n",
    "print(fermion_operator)\n",
    "\n",
    "# Transform to qubits under the Jordan-Wigner transformation and print its spectrum.\n",
    "jw_operator = jordan_wigner(fermion_operator)\n",
    "print('')\n",
    "print(jw_operator)\n",
    "jw_spectrum = eigenspectrum(jw_operator)\n",
    "print(jw_spectrum)\n",
    "\n",
    "# Transform to qubits under the Bravyi-Kitaev transformation and print its spectrum.\n",
    "bk_operator = bravyi_kitaev(fermion_operator)\n",
    "print('')\n",
    "print(bk_operator)\n",
    "bk_spectrum = eigenspectrum(bk_operator)\n",
    "print(bk_spectrum)"
   ]
  },
  {
   "cell_type": "markdown",
   "metadata": {
    "deletable": true,
    "editable": true
   },
   "source": [
    "We see that despite the different representation, these operators are iso-spectral. We can also apply the Jordan-Wigner transform in reverse to map arbitrary QubitOperators to FermionOperators. Note that we also demonstrate the .compress() method (a method on both FermionOperators and QubitOperators) which removes zero entries."
   ]
  },
  {
   "cell_type": "code",
   "execution_count": 9,
   "metadata": {
    "collapsed": false,
    "deletable": true,
    "editable": true
   },
   "outputs": [
    {
     "name": "stdout",
     "output_type": "stream",
     "text": [
      "88.0 X0 Y1 Z2 +\n",
      "3.17 Z1 Z4\n",
      "\n",
      "-6.34 [4^ 4] +\n",
      "176j [2^ 2 1 0] +\n",
      "88j [1 0^] +\n",
      "-88j [1 0] +\n",
      "-88j [1^ 0^] +\n",
      "12.68 [4^ 4 1^ 1] +\n",
      "3.17 [] +\n",
      "-176j [2^ 2 1 0^] +\n",
      "88j [1^ 0] +\n",
      "-6.34 [1^ 1] +\n",
      "-176j [2^ 2 1^ 0] +\n",
      "176j [2^ 2 1^ 0^]\n",
      "\n",
      "88.0 X0 Y1 Z2 +\n",
      "3.17 Z1 Z4\n"
     ]
    }
   ],
   "source": [
    "from fermilib.transforms import reverse_jordan_wigner\n",
    "\n",
    "# Initialize QubitOperator.\n",
    "my_operator = QubitOperator('X0 Y1 Z2', 88.)\n",
    "my_operator += QubitOperator('Z1 Z4', 3.17)\n",
    "print(my_operator)\n",
    "\n",
    "# Map QubitOperator to a FermionOperator.\n",
    "mapped_operator = reverse_jordan_wigner(my_operator)\n",
    "print('')\n",
    "print(mapped_operator)\n",
    "\n",
    "# Map the operator back to qubits and make sure it is the same.\n",
    "back_to_normal = jordan_wigner(mapped_operator)\n",
    "back_to_normal.compress()\n",
    "print('')\n",
    "print(back_to_normal)"
   ]
  },
  {
   "cell_type": "markdown",
   "metadata": {
    "deletable": true,
    "editable": true
   },
   "source": [
    "## Sparse matrices and the Hubbard model\n",
    "Often, one would like to obtain a sparse matrix representation of an operator which can be analyzed numerically. There is code in both fermilib.transforms and fermilib.utils which facilitates this. The function get_sparse_operator converts either a FermionOperator, a QubitOperator or other more advanced classes such as InteractionOperator to a scipy.sparse.csc matrix. There are numerous functions in fermilib.utils which one can call on the sparse operators such as \"get_gap\", \"get_hartree_fock_state\", \"get_ground_state\", ect. We show this off by computing the ground state energy of the Hubbard model. To do that, we use code from the fermilib.utils module which constructs lattice models of fermions such as Hubbard models."
   ]
  },
  {
   "cell_type": "code",
   "execution_count": 10,
   "metadata": {
    "collapsed": false,
    "deletable": true,
    "editable": true
   },
   "outputs": [
    {
     "name": "stdout",
     "output_type": "stream",
     "text": [
      "0.25 [2^ 2] +\n",
      "1.0 [2^ 2 3^ 3] +\n",
      "-2.0 [0^ 1] +\n",
      "-2.0 [1^ 3] +\n",
      "-2.0 [3^ 2] +\n",
      "0.25 [3^ 3] +\n",
      "1.0 [0^ 0 1^ 1] +\n",
      "-2.0 [2^ 3] +\n",
      "-2.0 [0^ 2] +\n",
      "-2.0 [3^ 1] +\n",
      "0.0 [] +\n",
      "-2.0 [1^ 0] +\n",
      "-2.0 [2^ 0] +\n",
      "-0.25 [0^ 0] +\n",
      "1.0 [0^ 0 2^ 2] +\n",
      "-0.25 [1^ 1] +\n",
      "1.0 [1^ 1 3^ 3]\n",
      "\n",
      "-1.0 X2 X3 +\n",
      "-1.0 X1 Z2 X3 +\n",
      "0.25 Z0 Z2 +\n",
      "-0.625 Z2 +\n",
      "0.25 Z2 Z3 +\n",
      "-0.375 Z0 +\n",
      "-0.625 Z3 +\n",
      "0.25 Z0 Z1 +\n",
      "0.25 Z1 Z3 +\n",
      "-1.0 Y2 Y3 +\n",
      "1.0 I +\n",
      "-0.375 Z1 +\n",
      "-1.0 X0 Z1 X2 +\n",
      "-1.0 Y1 Z2 Y3 +\n",
      "-1.0 Y0 Z1 Y2 +\n",
      "-1.0 X0 X1 +\n",
      "-1.0 Y0 Y1\n",
      "\n",
      "  (1, 1)\t(0.25+0j)\n",
      "  (2, 1)\t(-2+0j)\n",
      "  (4, 1)\t(-2+0j)\n",
      "  (1, 2)\t(-2+0j)\n",
      "  (2, 2)\t(0.25+0j)\n",
      "  (8, 2)\t(-2+0j)\n",
      "  (3, 3)\t(1.5+0j)\n",
      "  (6, 3)\t(2+0j)\n",
      "  (9, 3)\t(-2+0j)\n",
      "  (1, 4)\t(-2+0j)\n",
      "  (4, 4)\t(-0.25+0j)\n",
      "  (8, 4)\t(-2+0j)\n",
      "  (5, 5)\t(1+0j)\n",
      "  (6, 5)\t(-2+0j)\n",
      "  (9, 5)\t(-2+0j)\n",
      "  (3, 6)\t(2+0j)\n",
      "  (5, 6)\t(-2+0j)\n",
      "  (10, 6)\t(-2+0j)\n",
      "  (12, 6)\t(2+0j)\n",
      "  (7, 7)\t(2.25+0j)\n",
      "  (11, 7)\t(-2+0j)\n",
      "  (13, 7)\t(2+0j)\n",
      "  (2, 8)\t(-2+0j)\n",
      "  (4, 8)\t(-2+0j)\n",
      "  (8, 8)\t(-0.25+0j)\n",
      "  (3, 9)\t(-2+0j)\n",
      "  (5, 9)\t(-2+0j)\n",
      "  (10, 9)\t(-2+0j)\n",
      "  (12, 9)\t(-2+0j)\n",
      "  (6, 10)\t(-2+0j)\n",
      "  (9, 10)\t(-2+0j)\n",
      "  (10, 10)\t(1+0j)\n",
      "  (7, 11)\t(-2+0j)\n",
      "  (11, 11)\t(2.25+0j)\n",
      "  (14, 11)\t(2+0j)\n",
      "  (6, 12)\t(2+0j)\n",
      "  (9, 12)\t(-2+0j)\n",
      "  (12, 12)\t(0.5+0j)\n",
      "  (7, 13)\t(2+0j)\n",
      "  (13, 13)\t(1.75+0j)\n",
      "  (14, 13)\t(-2+0j)\n",
      "  (11, 14)\t(2+0j)\n",
      "  (13, 14)\t(-2+0j)\n",
      "  (14, 14)\t(1.75+0j)\n",
      "  (15, 15)\t(4+0j)\n",
      "\n",
      "Energy of the model is -4.01556443707 in units of T and J.\n"
     ]
    }
   ],
   "source": [
    "from fermilib.transforms import get_sparse_operator, jordan_wigner\n",
    "from fermilib.utils import fermi_hubbard, get_ground_state\n",
    "\n",
    "# Set model.\n",
    "x_dimension = 2\n",
    "y_dimension = 2\n",
    "tunneling = 2.\n",
    "coulomb = 1.\n",
    "magnetic_field = 0.5\n",
    "chemical_potential = 0.25\n",
    "periodic = 1\n",
    "spinless = 1\n",
    "\n",
    "# Get fermion operator.\n",
    "hubbard_model = fermi_hubbard(\n",
    "    x_dimension, y_dimension, tunneling, coulomb, chemical_potential,\n",
    "    magnetic_field, periodic, spinless)\n",
    "print(hubbard_model)\n",
    "\n",
    "# Get qubit operator under Jordan-Wigner.\n",
    "jw_hamiltonian = jordan_wigner(hubbard_model)\n",
    "jw_hamiltonian.compress()\n",
    "print('')\n",
    "print(jw_hamiltonian)\n",
    "\n",
    "# Get scipy.sparse.csc representation.\n",
    "sparse_operator = get_sparse_operator(hubbard_model)\n",
    "print('')\n",
    "print(sparse_operator)\n",
    "print('\\nEnergy of the model is {} in units of T and J.'.format(\n",
    "    get_ground_state(sparse_operator)[0]))"
   ]
  },
  {
   "cell_type": "markdown",
   "metadata": {
    "deletable": true,
    "editable": true
   },
   "source": [
    "## Hamiltonians in the plane wave basis\n",
    "A user can write plugins to FermiLib which allow for the use of, e.g., third-party electronic structure package to compute molecular orbitals, Hamiltonians, energies, reduced density matrices, coupled cluster amplitudes, etc using Gaussian basis sets. We may provide scripts which interface between such packages and FermiLib in future but do not discuss them in this tutorial.\n",
    "\n",
    "When using simpler basis sets such as plane waves, these packages are not needed. FermiLib comes with code which computes Hamiltonians in the plane wave basis. Note that when using plane waves, one is working with the periodized Coulomb operator, best suited for condensed phase calculations such as studying the electronic structure of a solid. To obtain these Hamiltonians one must choose to study the system without a spin degree of freedom (spinless), one must the specify dimension in which the calculation is performed (n_dimensions, usually 3), one must specify how many plane waves are in each dimension (grid_length) and one must specify the length scale of the plane wave harmonics in each dimension (length_scale) and also the locations and charges of the nuclei. One can generate these models with plane_wave_hamiltonian() found in fermilib.utils. For simplicity, below we compute the Hamiltonian in the case of zero external charge (corresponding to the uniform electron gas, aka jellium). We also demonstrate that one can transform the plane wave Hamiltonian using a Fourier transform without effecting the spectrum of the operator."
   ]
  },
  {
   "cell_type": "code",
   "execution_count": 11,
   "metadata": {
    "collapsed": false,
    "deletable": true,
    "editable": true
   },
   "outputs": [
    {
     "name": "stdout",
     "output_type": "stream",
     "text": [
      "-0.0795774715459 Z0 Z2 +\n",
      "-0.0795774715459 Z0 Z1 +\n",
      "-9.710449458 Z2 +\n",
      "-9.710449458 Z0 +\n",
      "-0.0795774715459 Z1 Z2 +\n",
      "19.5004763875 I +\n",
      "0.159154943092 Z1\n",
      "\n",
      "-0.0795774715459 Z0 Z2 +\n",
      "-3.2898681337 Y1 Y2 +\n",
      "-6.4205813243 Z2 +\n",
      "-0.0795774715459 Z1 Z2 +\n",
      "-6.4205813243 Z0 +\n",
      "-3.2898681337 Y0 Y1 +\n",
      "-0.0795774715459 Z0 Z1 +\n",
      "19.5004763875 I +\n",
      "-6.4205813243 Z1 +\n",
      "-3.2898681337 X0 Z1 X2 +\n",
      "-3.2898681337 X1 X2 +\n",
      "-3.2898681337 Y0 Z1 Y2 +\n",
      "-3.2898681337 X0 X1\n",
      "\n",
      "[  6.98052727e-15   6.25888230e-15   1.42108547e-14   3.55271368e-15\n",
      "   1.77635684e-14   7.10542736e-15   0.00000000e+00   1.42108547e-14]\n"
     ]
    }
   ],
   "source": [
    "from fermilib.utils import eigenspectrum, fourier_transform, jellium_model, Grid\n",
    "from fermilib.transforms import jordan_wigner\n",
    "\n",
    "# Let's look at a very small model of jellium in 1D.\n",
    "grid = Grid(dimensions=1, length=3, scale=1.0)\n",
    "spinless = True\n",
    "\n",
    "# Get the momentum Hamiltonian.\n",
    "momentum_hamiltonian = jellium_model(grid, spinless)\n",
    "momentum_qubit_operator = jordan_wigner(momentum_hamiltonian)\n",
    "momentum_qubit_operator.compress()\n",
    "print(momentum_qubit_operator)\n",
    "\n",
    "# Fourier transform the Hamiltonian to the position basis.\n",
    "position_hamiltonian = fourier_transform(momentum_hamiltonian, grid, spinless)\n",
    "position_qubit_operator = jordan_wigner(position_hamiltonian)\n",
    "position_qubit_operator.compress()\n",
    "print('')\n",
    "print (position_qubit_operator)\n",
    "\n",
    "# Check the spectra to make sure these representations are iso-spectral.\n",
    "spectral_difference = eigenspectrum(momentum_qubit_operator) -  eigenspectrum(position_qubit_operator)\n",
    "print('')\n",
    "print(spectral_difference)"
   ]
  },
  {
   "cell_type": "markdown",
   "metadata": {
    "deletable": true,
    "editable": true
   },
   "source": [
    "## Basics of MolecularData class\n",
    "\n",
    "Data from electronic structure calculations can be saved in a FermiLib data structure called MolecularData, which makes it easy to access within our library. Often, one would like to analyze a chemical series or look at many different Hamiltonians and sometimes the electronic structure calculations are either expensive to compute or difficult to converge (e.g. one needs to mess around with different types of SCF routines to make things converge). Accordingly, we anticipate that users will want some way to automatically database the results of their electronic structure calculations so that important data (such as the SCF intergrals) can be looked up on-the-fly if the user has computed them in the past. FermiLib supports a data provenance strategy which saves key results of the electronic structure calculation (including pointers to files containing large amounts of data, such as the molecular integrals) in an HDF5 container.\n",
    "\n",
    "The MolecularData class stores information about molecules. One initializes a MolecularData object by specifying parameters of a molecule such as its geometry, basis, multiplicity, charge and an optional string describing it. One can also initialize MolecularData simply by providing a string giving a filename where a previous MolecularData object was saved in an HDF5 container. One can save a MolecularData instance by calling the class's .save() method. This automatically saves the instance in a data folder specified during FermiLib installation. The name of the file is generated automatically from the instance attributes and optionally provided description. Alternatively, a filename can also be provided as an optional input if one wishes to manually name the file.\n",
    "\n",
    "When electronic structure calculations are run, the data files for the molecule can be automatically updated. If one wishes to later use that data they either initialize MolecularData with the instance filename or initialize the instance and then later call the .load() method.\n",
    "\n",
    "Basis functions are provided to initialization using a string such as \"6-31g\". Geometries can be specified using a simple txt input file (see geometry_from_file function in molecular_data.py) or can be passed using a simple python list format demonstrated below. Atoms are specified using a string for their atomic symbol. Distances should be provided in atomic units (Bohr). Below we initialize a simple instance of MolecularData without performing any electronic structure calculations."
   ]
  },
  {
   "cell_type": "code",
   "execution_count": 12,
   "metadata": {
    "collapsed": false,
    "deletable": true,
    "editable": true
   },
   "outputs": [
    {
     "name": "stdout",
     "output_type": "stream",
     "text": [
      "Molecule has automatically generated name H2_sto-3g_singlet_0.7414\n",
      "Information about this molecule would be saved at:\n",
      "/home/jmcclean/Dropbox/LBNL/ProjectQ-Framework/FermiLib/src/fermilib/data/H2_sto-3g_singlet_0.7414\n",
      "\n",
      "This molecule has 2 atoms and 2 electrons.\n",
      "Contains H atom, which has 1 protons.\n",
      "Contains H atom, which has 1 protons.\n"
     ]
    }
   ],
   "source": [
    "from fermilib.utils import MolecularData\n",
    "\n",
    "# Set parameters to make a simple molecule.\n",
    "diatomic_bond_length = .7414\n",
    "geometry = [('H', (0., 0., 0.)), ('H', (0., 0., diatomic_bond_length))]\n",
    "basis = 'sto-3g'\n",
    "multiplicity = 1\n",
    "charge = 0\n",
    "description = str(diatomic_bond_length)\n",
    "\n",
    "# Make molecule and print out a few interesting facts about it.\n",
    "molecule = MolecularData(geometry, basis, multiplicity,\n",
    "                         charge, description)\n",
    "print('Molecule has automatically generated name {}'.format(\n",
    "    molecule.name))\n",
    "print('Information about this molecule would be saved at:\\n{}\\n'.format(\n",
    "    molecule.filename))\n",
    "print('This molecule has {} atoms and {} electrons.'.format(\n",
    "    molecule.n_atoms, molecule.n_electrons))\n",
    "for atom, atomic_number in zip(molecule.atoms, molecule.protons):\n",
    "    print('Contains {} atom, which has {} protons.'.format(\n",
    "        atom, atomic_number))"
   ]
  },
  {
   "cell_type": "markdown",
   "metadata": {
    "deletable": true,
    "editable": true
   },
   "source": [
    "If we had previously computed this molecule using an electronic structure package, we can call molecule.load() to populate all sorts of interesting fields in the data structure. Though we make no assumptions about what electronic structure packages users might install, we assume that the calculations are saved in Fermilib's MolecularData objects. There may be plugins available in future. For the purposes of this example, we will load data that ships with FermiLib to make a plot of the energy surface of hydrogen. Note that helper functions to initialize some interesting chemical benchmarks are found in fermilib.utils."
   ]
  },
  {
   "cell_type": "code",
   "execution_count": 13,
   "metadata": {
    "collapsed": false,
    "deletable": true,
    "editable": true
   },
   "outputs": [
    {
     "name": "stdout",
     "output_type": "stream",
     "text": [
      "0.3\n",
      "\n",
      "At bond length of 0.3 Bohr, molecular hydrogen has:\n",
      "Hartree-Fock energy of -0.593827764585 Hartree.\n",
      "MP2 energy of -0.599781278607 Hartree.\n",
      "FCI energy of -0.601803716835 Hartree.\n",
      "Nuclear repulsion energy between protons is 1.76392402863 Hartree.\n",
      "Spatial orbital 0 has energy of -0.802866618712 Hartree.\n",
      "Spatial orbital 1 has energy of 1.36893879525 Hartree.\n",
      "0.4\n",
      "\n",
      "At bond length of 0.4 Bohr, molecular hydrogen has:\n",
      "Hartree-Fock energy of -0.904361397714 Hartree.\n",
      "MP2 energy of -0.911435297618 Hartree.\n",
      "FCI energy of -0.914149708214 Hartree.\n",
      "Nuclear repulsion energy between protons is 1.32294302147 Hartree.\n",
      "Spatial orbital 0 has energy of -0.745212533291 Hartree.\n",
      "Spatial orbital 1 has energy of 1.16741639504 Hartree.\n",
      "0.5\n",
      "\n",
      "At bond length of 0.5 Bohr, molecular hydrogen has:\n",
      "Hartree-Fock energy of -1.04299627651 Hartree.\n",
      "MP2 energy of -1.05148447259 Hartree.\n",
      "FCI energy of -1.0551597965 Hartree.\n",
      "Nuclear repulsion energy between protons is 1.05835441718 Hartree.\n",
      "Spatial orbital 0 has energy of -0.690822327512 Hartree.\n",
      "Spatial orbital 1 has energy of 0.988673669374 Hartree.\n",
      "0.6\n",
      "\n",
      "At bond length of 0.6 Bohr, molecular hydrogen has:\n",
      "Hartree-Fock energy of -1.10112824314 Hartree.\n",
      "MP2 energy of -1.11133056631 Hartree.\n",
      "FCI energy of -1.11628600783 Hartree.\n",
      "Nuclear repulsion energy between protons is 0.881962014317 Hartree.\n",
      "Spatial orbital 0 has energy of -0.640876264399 Hartree.\n",
      "Spatial orbital 1 has energy of 0.838084978149 Hartree.\n",
      "0.7\n",
      "\n",
      "At bond length of 0.7 Bohr, molecular hydrogen has:\n",
      "Hartree-Fock energy of -1.11734903507 Hartree.\n",
      "MP2 energy of -1.12958030128 Hartree.\n",
      "FCI energy of -1.13618945427 Hartree.\n",
      "Nuclear repulsion energy between protons is 0.755967440843 Hartree.\n",
      "Spatial orbital 0 has energy of -0.595463471675 Hartree.\n",
      "Spatial orbital 1 has energy of 0.714165281005 Hartree.\n",
      "0.8\n",
      "\n",
      "At bond length of 0.8 Bohr, molecular hydrogen has:\n",
      "Hartree-Fock energy of -1.11085039699 Hartree.\n",
      "MP2 energy of -1.12545166123 Hartree.\n",
      "FCI energy of -1.13414766636 Hartree.\n",
      "Nuclear repulsion energy between protons is 0.661471510737 Hartree.\n",
      "Spatial orbital 0 has energy of -0.554495879764 Hartree.\n",
      "Spatial orbital 1 has energy of 0.612618083493 Hartree.\n",
      "0.9\n",
      "\n",
      "At bond length of 0.9 Bohr, molecular hydrogen has:\n",
      "Hartree-Fock energy of -1.09191404011 Hartree.\n",
      "MP2 energy of -1.10926965709 Hartree.\n",
      "FCI energy of -1.12056028062 Hartree.\n",
      "Nuclear repulsion energy between protons is 0.587974676211 Hartree.\n",
      "Spatial orbital 0 has energy of -0.517668030963 Hartree.\n",
      "Spatial orbital 1 has energy of 0.528477243161 Hartree.\n",
      "1.0\n",
      "\n",
      "At bond length of 1.0 Bohr, molecular hydrogen has:\n",
      "Hartree-Fock energy of -1.06610864808 Hartree.\n",
      "MP2 energy of -1.08666270096 Hartree.\n",
      "FCI energy of -1.1011503293 Hartree.\n",
      "Nuclear repulsion energy between protons is 0.52917720859 Hartree.\n",
      "Spatial orbital 0 has energy of -0.484441678962 Hartree.\n",
      "Spatial orbital 1 has energy of 0.457501936164 Hartree.\n",
      "1.1\n",
      "\n",
      "At bond length of 1.1 Bohr, molecular hydrogen has:\n",
      "Hartree-Fock energy of -1.03653887354 Hartree.\n",
      "MP2 energy of -1.06080311143 Hartree.\n",
      "FCI energy of -1.07919294388 Hartree.\n",
      "Nuclear repulsion energy between protons is 0.481070189627 Hartree.\n",
      "Spatial orbital 0 has energy of -0.454218692719 Hartree.\n",
      "Spatial orbital 1 has energy of 0.396695908412 Hartree.\n",
      "1.2\n",
      "\n",
      "At bond length of 1.2 Bohr, molecular hydrogen has:\n",
      "Hartree-Fock energy of -1.00510670488 Hartree.\n",
      "MP2 energy of -1.03365866062 Hartree.\n",
      "FCI energy of -1.05674074513 Hartree.\n",
      "Nuclear repulsion energy between protons is 0.440981007158 Hartree.\n",
      "Spatial orbital 0 has energy of -0.426502640723 Hartree.\n",
      "Spatial orbital 1 has energy of 0.344126878784 Hartree.\n",
      "1.3\n",
      "\n",
      "At bond length of 1.3 Bohr, molecular hydrogen has:\n",
      "Hartree-Fock energy of -0.973110613949 Hartree.\n",
      "MP2 energy of -1.00658581984 Hartree.\n",
      "FCI energy of -1.03518626525 Hartree.\n",
      "Nuclear repulsion energy between protons is 0.407059391223 Hartree.\n",
      "Spatial orbital 0 has energy of -0.400946516149 Hartree.\n",
      "Spatial orbital 1 has energy of 0.298513889839 Hartree.\n",
      "1.4\n",
      "\n",
      "At bond length of 1.4 Bohr, molecular hydrogen has:\n",
      "Hartree-Fock energy of -0.941480652784 Hartree.\n",
      "MP2 energy of -0.980563286065 Hartree.\n",
      "FCI energy of -1.01546824814 Hartree.\n",
      "Nuclear repulsion energy between protons is 0.377983720421 Hartree.\n",
      "Spatial orbital 0 has energy of -0.377322823969 Hartree.\n",
      "Spatial orbital 1 has energy of 0.258901972313 Hartree.\n",
      "1.5\n",
      "\n",
      "At bond length of 1.5 Bohr, molecular hydrogen has:\n",
      "Hartree-Fock energy of -0.910873552617 Hartree.\n",
      "MP2 energy of -0.956287593623 Hartree.\n",
      "FCI energy of -0.998149352414 Hartree.\n",
      "Nuclear repulsion energy between protons is 0.352784805727 Hartree.\n",
      "Spatial orbital 0 has energy of -0.355477488019 Hartree.\n",
      "Spatial orbital 1 has energy of 0.224495437285 Hartree.\n",
      "1.6\n",
      "\n",
      "At bond length of 1.6 Bohr, molecular hydrogen has:\n",
      "Hartree-Fock energy of -0.881732447952 Hartree.\n",
      "MP2 energy of -0.934233322268 Hartree.\n",
      "FCI energy of -0.983472728093 Hartree.\n",
      "Nuclear repulsion energy between protons is 0.330735755369 Hartree.\n",
      "Spatial orbital 0 has energy of -0.335296350589 Hartree.\n",
      "Spatial orbital 1 has energy of 0.1945979554 Hartree.\n",
      "1.7\n",
      "\n",
      "At bond length of 1.7 Bohr, molecular hydrogen has:\n",
      "Hartree-Fock energy of -0.854337624971 Hartree.\n",
      "MP2 energy of -0.914703457885 Hartree.\n",
      "FCI energy of -0.971426687651 Hartree.\n",
      "Nuclear repulsion energy between protons is 0.311280710935 Hartree.\n",
      "Spatial orbital 0 has energy of -0.316686044101 Hartree.\n",
      "Spatial orbital 1 has energy of 0.168597320729 Hartree.\n",
      "1.8\n",
      "\n",
      "At bond length of 1.8 Bohr, molecular hydrogen has:\n",
      "Hartree-Fock energy of -0.828848145985 Hartree.\n",
      "MP2 energy of -0.897869971342 Hartree.\n",
      "FCI energy of -0.96181695212 Hartree.\n",
      "Nuclear repulsion energy between protons is 0.293987338106 Hartree.\n",
      "Spatial orbital 0 has energy of -0.299563220223 Hartree.\n",
      "Spatial orbital 1 has energy of 0.145960296625 Hartree.\n",
      "1.9\n",
      "\n",
      "At bond length of 1.9 Bohr, molecular hydrogen has:\n",
      "Hartree-Fock energy of -0.805332843009 Hartree.\n",
      "MP2 energy of -0.883803751465 Hartree.\n",
      "FCI energy of -0.954338853453 Hartree.\n",
      "Nuclear repulsion energy between protons is 0.278514320311 Hartree.\n",
      "Spatial orbital 0 has energy of -0.283847865211 Hartree.\n",
      "Spatial orbital 1 has energy of 0.126226048919 Hartree.\n",
      "2.0\n",
      "\n",
      "At bond length of 2.0 Bohr, molecular hydrogen has:\n",
      "Hartree-Fock energy of -0.783792652466 Hartree.\n",
      "MP2 energy of -0.872496424922 Hartree.\n",
      "FCI energy of -0.948641111742 Hartree.\n",
      "Nuclear repulsion energy between protons is 0.264588604295 Hartree.\n",
      "Spatial orbital 0 has energy of -0.269459222444 Hartree.\n",
      "Spatial orbital 1 has energy of 0.108997368132 Hartree.\n",
      "2.1\n",
      "\n",
      "At bond length of 2.1 Bohr, molecular hydrogen has:\n",
      "Hartree-Fock energy of -0.76417764989 Hartree.\n",
      "MP2 energy of -0.863877639601 Hartree.\n",
      "FCI energy of -0.944374680781 Hartree.\n",
      "Nuclear repulsion energy between protons is 0.251989146948 Hartree.\n",
      "Spatial orbital 0 has energy of -0.256314058634 Hartree.\n",
      "Spatial orbital 1 has energy of 0.0939315946348 Hartree.\n",
      "2.2\n",
      "\n",
      "At bond length of 2.2 Bohr, molecular hydrogen has:\n",
      "Hartree-Fock energy of -0.746401348355 Hartree.\n",
      "MP2 energy of -0.857830225327 Hartree.\n",
      "FCI energy of -0.941224033433 Hartree.\n",
      "Nuclear repulsion energy between protons is 0.240535094814 Hartree.\n",
      "Spatial orbital 0 has energy of -0.244326991425 Hartree.\n",
      "Spatial orbital 1 has energy of 0.0807327078978 Hartree.\n",
      "2.3\n",
      "\n",
      "At bond length of 2.3 Bohr, molecular hydrogen has:\n",
      "Hartree-Fock energy of -0.730353319813 Hartree.\n",
      "MP2 energy of -0.854203927291 Hartree.\n",
      "FCI energy of -0.93892238579 Hartree.\n",
      "Nuclear repulsion energy between protons is 0.230077047213 Hartree.\n",
      "Spatial orbital 0 has energy of -0.233412208996 Hartree.\n",
      "Spatial orbital 1 has energy of 0.069144997404 Hartree.\n",
      "2.4\n",
      "\n",
      "At bond length of 2.4 Bohr, molecular hydrogen has:\n",
      "Hartree-Fock energy of -0.715910059008 Hartree.\n",
      "MP2 energy of -0.852827284386 Hartree.\n",
      "FCI energy of -0.937254952861 Hartree.\n",
      "Nuclear repulsion energy between protons is 0.220490503579 Hartree.\n",
      "Spatial orbital 0 has energy of -0.223485697142 Hartree.\n",
      "Spatial orbital 1 has energy of 0.0589480319969 Hartree.\n",
      "2.5\n",
      "\n",
      "At bond length of 2.5 Bohr, molecular hydrogen has:\n",
      "Hartree-Fock energy of -0.702943598373 Hartree.\n",
      "MP2 energy of -0.853517014087 Hartree.\n",
      "FCI energy of -0.936054919844 Hartree.\n",
      "Nuclear repulsion energy between protons is 0.211670883436 Hartree.\n",
      "Spatial orbital 0 has energy of -0.214467191782 Hartree.\n",
      "Spatial orbital 1 has energy of 0.0499524228976 Hartree.\n"
     ]
    },
    {
     "data": {
      "image/png": "[encoded data removed]",
      "text/plain": [
       "<matplotlib.figure.Figure at 0x7f18df466550>"
      ]
     },
     "metadata": {},
     "output_type": "display_data"
    }
   ],
   "source": [
    "# Set molecule parameters.\n",
    "basis = 'sto-3g'\n",
    "multiplicity = 1\n",
    "bond_length_interval = 0.1\n",
    "n_points = 25\n",
    "\n",
    "# Generate molecule at different bond lengths.\n",
    "hf_energies = []\n",
    "fci_energies = []\n",
    "bond_lengths = []\n",
    "for point in range(3, n_points + 1):\n",
    "    bond_length = bond_length_interval * point\n",
    "    bond_lengths += [bond_length]\n",
    "    description = str(round(bond_length,2))\n",
    "    print(description)\n",
    "    geometry = [('H', (0., 0., 0.)), ('H', (0., 0., bond_length))]\n",
    "    molecule = MolecularData(\n",
    "        geometry, basis, multiplicity, description=description)\n",
    "    \n",
    "    # Load data.\n",
    "    molecule.load()\n",
    "\n",
    "    # Print out some results of calculation.\n",
    "    print('\\nAt bond length of {} Bohr, molecular hydrogen has:'.format(\n",
    "        bond_length))\n",
    "    print('Hartree-Fock energy of {} Hartree.'.format(molecule.hf_energy))\n",
    "    print('MP2 energy of {} Hartree.'.format(molecule.mp2_energy))\n",
    "    print('FCI energy of {} Hartree.'.format(molecule.fci_energy))\n",
    "    print('Nuclear repulsion energy between protons is {} Hartree.'.format(\n",
    "        molecule.nuclear_repulsion))\n",
    "    for orbital in range(molecule.n_orbitals):\n",
    "        print('Spatial orbital {} has energy of {} Hartree.'.format(\n",
    "            orbital, molecule.orbital_energies[orbital]))\n",
    "    hf_energies += [molecule.hf_energy]\n",
    "    fci_energies += [molecule.fci_energy]\n",
    "\n",
    "# Plot.\n",
    "import matplotlib.pyplot as plt\n",
    "%matplotlib inline\n",
    "\n",
    "plt.figure(0)\n",
    "plt.plot(bond_lengths, fci_energies, 'x-')\n",
    "plt.plot(bond_lengths, hf_energies, 'o-')\n",
    "plt.ylabel('Energy in Hartree')\n",
    "plt.xlabel('Bond length in Bohr')\n",
    "plt.show()"
   ]
  },
  {
   "cell_type": "markdown",
   "metadata": {
    "deletable": true,
    "editable": true
   },
   "source": [
    "## InteractionOperator and InteractionRDM for efficient numerical representations\n",
    "\n",
    "Fermion Hamiltonians can be expressed as $H = h_0 + \\sum_{pq} h_{pq}\\, a^\\dagger_p a_q + \\frac{1}{2} \\sum_{pqrs} h_{pqrs} \\, a^\\dagger_p a^\\dagger_q a_r a_s$ where $h_0$ is a constant shift due to the nuclear repulsion and $h_{pq}$ and $h_{pqrs}$ are the famous molecular integrals. Since fermions interact pairwise, their energy is thus a unique function of the one-particle and two-particle reduced density matrices which are expressed in second quantization as $\\rho_{pq} = \\left \\langle p \\mid a^\\dagger_p a_q \\mid q \\right \\rangle$ and $\\rho_{pqrs} = \\left \\langle pq \\mid a^\\dagger_p a^\\dagger_q a_r a_s \\mid rs \\right \\rangle$, respectively.\n",
    "\n",
    "Because the RDMs and molecular Hamiltonians are both compactly represented and manipulated as 2- and 4- index tensors, we can represent them in a particularly efficient form using  similar data structures. The InteractionOperator data structure can be initialized for a Hamiltonian by passing the constant $h_0$ (or 0), as well as numpy arrays representing $h_{pq}$ (or $\\rho_{pq}$) and $h_{pqrs}$ (or $\\rho_{pqrs}$). Importantly, InteractionOperators can also be obtained by calling MolecularData.get_molecular_hamiltonian() or by calling the function get_interaction_operator() (found in fermilib.utils) on a FermionOperator. The InteractionRDM data structure is similar but represents RDMs. For instance, one can get a molecular RDM by calling MolecularData.get_molecular_rdm(). When generating Hamiltonians from the MolecularData class, one can choose to restrict the system to an active space.\n",
    "\n",
    "These classes inherit from the same base class, InteractionTensor. This data structure overloads the slice operator [] so that one can get or set the key attributes of the InteractionOperator: $\\textrm{.constant}$, $\\textrm{.one_body_coefficients}$ and $\\textrm{.two_body_coefficients}$ . For instance, InteractionOperator[p,q,r,s] would return $h_{pqrs}$ and InteractionRDM would return $\\rho_{pqrs}$. Importantly, the class supports fast basis transformations using the method InteractionTensor.rotate_basis(rotation_matrix).\n",
    "But perhaps most importantly, one can map the InteractionOperator to any of the other data structures we've described here.\n",
    "\n",
    "Below, we load MolecularData from a saved calculation of LiH. We then obtain an InteractionOperator representation of this system in an active space. We then map that operator to qubits. We then demonstrate that one can rotate the orbital basis of the InteractionOperator using random angles to obtain a totally different operator that is still iso-spectral."
   ]
  },
  {
   "cell_type": "code",
   "execution_count": 14,
   "metadata": {
    "collapsed": false,
    "deletable": true,
    "editable": true
   },
   "outputs": [
    {
     "name": "stdout",
     "output_type": "stream",
     "text": [
      "The Jordan-Wigner Hamiltonian in canonical basis follows:\n",
      "0.0129107802731 X1 Z2 X3 +\n",
      "0.0115364132008 Z0 X1 Z2 X3 +\n",
      "-0.0132436983303 Z2 +\n",
      "-0.0013743761079 Y0 Z1 Y2 Z3 +\n",
      "0.0115364132008 Z0 Y1 Z2 Y3 +\n",
      "0.124447701331 Z0 Z1 +\n",
      "-0.0013743761079 Y1 Y3 +\n",
      "-0.0013743761079 X0 Z1 X2 Z3 +\n",
      "-0.00293299644095 X0 X1 Y2 Y3 +\n",
      "0.16199475388 Z0 +\n",
      "0.0541304457933 Z1 Z3 +\n",
      "0.16199475388 Z1 +\n",
      "0.0129107802731 X0 Z1 X2 +\n",
      "0.0115364132008 X0 X2 +\n",
      "0.0129107802731 Y0 Z1 Y2 +\n",
      "0.0541304457933 Z0 Z2 +\n",
      "0.0847960954367 Z2 Z3 +\n",
      "0.00293299644095 Y0 X1 X2 Y3 +\n",
      "-0.0132436983303 Z3 +\n",
      "0.0570634422342 Z1 Z2 +\n",
      "0.0129107802731 Y1 Z2 Y3 +\n",
      "0.0115364132008 Y0 Y2 +\n",
      "0.0570634422342 Z0 Z3 +\n",
      "-0.00293299644095 Y0 Y1 X2 X3 +\n",
      "-7.49894690201 I +\n",
      "0.00293299644095 X0 Y1 Y2 X3 +\n",
      "-0.0013743761079 X1 X3\n",
      "Ground state energy before rotation is -7.86277316303 Hartree.\n",
      "\n",
      "The Jordan-Wigner Hamiltonian in rotated basis follows:\n",
      "0.0438001077865 X1 Z2 X3 +\n",
      "0.0201314697477 Z0 X1 Z2 X3 +\n",
      "-0.00260088152313 Z2 +\n",
      "0.0201314697477 X0 X2 +\n",
      "0.0201314697477 Z0 Y1 Z2 Y3 +\n",
      "0.11231145019 Z0 Z1 +\n",
      "-0.00347270545871 Y1 Y3 +\n",
      "-0.00347270545871 X0 Z1 X2 Z3 +\n",
      "-0.0100358424371 X0 X1 Y2 Y3 +\n",
      "0.151351937073 Z0 +\n",
      "0.0541304457933 Z1 Z3 +\n",
      "0.151351937073 Z1 +\n",
      "0.0438001077865 X0 Z1 X2 +\n",
      "-0.00347270545871 Y0 Z1 Y2 Z3 +\n",
      "0.0438001077865 Y0 Z1 Y2 +\n",
      "0.0541304457933 Z0 Z2 +\n",
      "0.0827266545854 Z2 Z3 +\n",
      "0.0100358424371 Y0 X1 X2 Y3 +\n",
      "-0.00260088152313 Z3 +\n",
      "0.0641662882304 Z1 Z2 +\n",
      "0.0438001077865 Y1 Z2 Y3 +\n",
      "0.0201314697477 Y0 Y2 +\n",
      "0.0641662882304 Z0 Z3 +\n",
      "-0.0100358424371 Y0 Y1 X2 X3 +\n",
      "-7.49894690201 I +\n",
      "0.0100358424371 X0 Y1 Y2 X3 +\n",
      "-0.00347270545871 X1 X3\n",
      "Ground state energy after rotation is -7.86277316303 Hartree.\n"
     ]
    }
   ],
   "source": [
    "from fermilib.transforms import get_fermion_operator, get_sparse_operator, jordan_wigner\n",
    "from fermilib.utils import get_ground_state, MolecularData\n",
    "import numpy\n",
    "import scipy\n",
    "import scipy.linalg\n",
    "\n",
    "# Load saved file for LiH.\n",
    "diatomic_bond_length = 1.45\n",
    "geometry = [('Li', (0., 0., 0.)), ('H', (0., 0., diatomic_bond_length))]\n",
    "basis = 'sto-3g'\n",
    "multiplicity = 1\n",
    "\n",
    "# Set Hamiltonian parameters.\n",
    "active_space_start = 1\n",
    "active_space_stop = 3\n",
    "\n",
    "# Generate and populate instance of MolecularData.\n",
    "molecule = MolecularData(geometry, basis, multiplicity, description=\"1.45\")\n",
    "molecule.load()\n",
    "\n",
    "# Get the Hamiltonian in an active space.\n",
    "molecular_hamiltonian = molecule.get_molecular_hamiltonian(\n",
    "    occupied_indices=range(active_space_start),\n",
    "    active_indices=range(active_space_start, active_space_stop))\n",
    "\n",
    "# Map operator to fermions and qubits.\n",
    "fermion_hamiltonian = get_fermion_operator(molecular_hamiltonian)\n",
    "qubit_hamiltonian = jordan_wigner(fermion_hamiltonian)\n",
    "qubit_hamiltonian.compress()\n",
    "print('The Jordan-Wigner Hamiltonian in canonical basis follows:\\n{}'.format(qubit_hamiltonian))\n",
    "\n",
    "# Get sparse operator and ground state energy.\n",
    "sparse_hamiltonian = get_sparse_operator(qubit_hamiltonian)\n",
    "energy, state = get_ground_state(sparse_hamiltonian)\n",
    "print('Ground state energy before rotation is {} Hartree.\\n'.format(energy))\n",
    "\n",
    "# Randomly rotate.\n",
    "n_orbitals = molecular_hamiltonian.n_qubits // 2\n",
    "n_variables = int(n_orbitals * (n_orbitals - 1) / 2)\n",
    "random_angles = numpy.pi * (1. - 2. * numpy.random.rand(n_variables))\n",
    "kappa = numpy.zeros((n_orbitals, n_orbitals))\n",
    "index = 0\n",
    "for p in range(n_orbitals):\n",
    "    for q in range(p + 1, n_orbitals):\n",
    "        kappa[p, q] = random_angles[index]\n",
    "        kappa[q, p] = -numpy.conjugate(random_angles[index])\n",
    "        index += 1\n",
    "\n",
    "    # Build the unitary rotation matrix.\n",
    "    difference_matrix = kappa + kappa.transpose()\n",
    "    rotation_matrix = scipy.linalg.expm(kappa)\n",
    "\n",
    "    # Apply the unitary.\n",
    "    molecular_hamiltonian.rotate_basis(rotation_matrix)\n",
    "\n",
    "# Get qubit Hamiltonian in rotated basis.\n",
    "qubit_hamiltonian = jordan_wigner(molecular_hamiltonian)\n",
    "qubit_hamiltonian.compress()\n",
    "print('The Jordan-Wigner Hamiltonian in rotated basis follows:\\n{}'.format(qubit_hamiltonian))\n",
    "\n",
    "# Get sparse Hamiltonian and energy in rotated basis.\n",
    "sparse_hamiltonian = get_sparse_operator(qubit_hamiltonian)\n",
    "energy, state = get_ground_state(sparse_hamiltonian)\n",
    "print('Ground state energy after rotation is {} Hartree.'.format(energy))"
   ]
  },
  {
   "cell_type": "markdown",
   "metadata": {
    "deletable": true,
    "editable": true
   },
   "source": [
    "## Simulating a variational quantum eigensolver using ProjectQ\n",
    "We now demonstrate how one can use both FermiLib and ProjectQ to run a simple VQE example using a Unitary Coupled Cluster ansatz. It demonstrates a simple way to evaluate the energy, optimize the energy with respect to the ansatz and build the corresponding compiled quantum circuit. It utilizes ProjectQ to build and simulate the circuit."
   ]
  },
  {
   "cell_type": "code",
   "execution_count": 15,
   "metadata": {
    "collapsed": true,
    "deletable": true,
    "editable": true
   },
   "outputs": [],
   "source": [
    "from numpy import array, concatenate, zeros\n",
    "from numpy.random import randn\n",
    "from scipy.optimize import minimize\n",
    "\n",
    "from fermilib.config import *\n",
    "from fermilib.utils import *\n",
    "from fermilib.transforms import jordan_wigner\n",
    "\n",
    "from projectq.ops import X, All, Measure\n",
    "from projectq.backends import CommandPrinter, CircuitDrawer"
   ]
  },
  {
   "cell_type": "markdown",
   "metadata": {
    "deletable": true,
    "editable": true
   },
   "source": [
    "Here we load $\\textrm{H}_2$ from a precomputed molecule file found in the test data directory, and initialize the ProjectQ circuit compiler to a standard setting that uses a first-order Trotter decomposition to break up the exponentials of non-commuting operators. "
   ]
  },
  {
   "cell_type": "code",
   "execution_count": 16,
   "metadata": {
    "collapsed": false,
    "deletable": true,
    "editable": true
   },
   "outputs": [],
   "source": [
    "# Load the molecule.\n",
    "import os\n",
    "filename = os.path.join(DATA_DIRECTORY, 'H2_sto-3g_singlet_0.7414')\n",
    "molecule = MolecularData(filename=filename)\n",
    "\n",
    "# Use a Jordan-Wigner encoding, and compress to remove 0 imaginary components\n",
    "qubit_hamiltonian = jordan_wigner(molecule.get_molecular_hamiltonian())\n",
    "qubit_hamiltonian.compress()\n",
    "compiler_engine = uccsd_trotter_engine()"
   ]
  },
  {
   "cell_type": "markdown",
   "metadata": {
    "deletable": true,
    "editable": true
   },
   "source": [
    "The Variational Quantum Eigensolver (or VQE), works by parameterizing a wavefunction $| \\Psi(\\theta) \\rangle$ through some quantum circuit, and minimzing the energy with respect to that angle, which is defined by\n",
    "\n",
    "\\begin{align}\n",
    "E(\\theta) = \\langle \\Psi(\\theta)| H | \\Psi(\\theta) \\rangle\n",
    "\\end{align}\n",
    "\n",
    "To perform the VQE loop with a simple molecule, it helps to wrap the evaluation of the energy into a simple objective function that takes the parameters of the circuit and returns the energy.  Here we define that function using ProjectQ to handle the qubits and the simulation."
   ]
  },
  {
   "cell_type": "code",
   "execution_count": 17,
   "metadata": {
    "collapsed": true,
    "deletable": true,
    "editable": true
   },
   "outputs": [],
   "source": [
    "def energy_objective(packed_amplitudes):\n",
    "    \"\"\"Evaluate the energy of a UCCSD singlet wavefunction with packed_amplitudes\n",
    "    Args:\n",
    "        packed_amplitudes(ndarray): Compact array that stores the unique\n",
    "            amplitudes for a UCCSD singlet wavefunction.\n",
    "        \n",
    "    Returns:\n",
    "        energy(float): Energy corresponding to the given amplitudes\n",
    "    \"\"\"\n",
    "    # Set Jordan-Wigner initial state with correct number of electrons\n",
    "    wavefunction = compiler_engine.allocate_qureg(molecule.n_qubits)\n",
    "    for i in range(molecule.n_electrons):\n",
    "        X | wavefunction[i]\n",
    "\n",
    "    # Build the circuit and act it on the wavefunction\n",
    "    evolution_operator = uccsd_singlet_evolution(packed_amplitudes, \n",
    "                                                 molecule.n_qubits, \n",
    "                                                 molecule.n_electrons)\n",
    "    evolution_operator | wavefunction\n",
    "    compiler_engine.flush()\n",
    "\n",
    "    # Evaluate the energy and reset wavefunction\n",
    "    energy = compiler_engine.backend.get_expectation_value(qubit_hamiltonian, wavefunction)\n",
    "    All(Measure) | wavefunction\n",
    "    compiler_engine.flush()\n",
    "    return energy"
   ]
  },
  {
   "cell_type": "markdown",
   "metadata": {
    "deletable": true,
    "editable": true
   },
   "source": [
    "While we could plug this objective function into any optimizer, SciPy offers a convenient framework within the Python ecosystem.  We'll choose as starting amplitudes the classical CCSD values that can be loaded from the molecule if desired.  The optimal energy is found and compared to the exact values to verify that our simulation was successful."
   ]
  },
  {
   "cell_type": "code",
   "execution_count": 18,
   "metadata": {
    "collapsed": false,
    "deletable": true,
    "editable": true
   },
   "outputs": [
    {
     "name": "stdout",
     "output_type": "stream",
     "text": [
      "Optimization terminated successfully.\n",
      "         Current function value: -1.137270\n",
      "         Iterations: 1\n",
      "         Function evaluations: 12\n",
      "         Gradient evaluations: 3\n",
      "\n",
      "Optimal UCCSD Singlet Energy: -1.13727017463\n",
      "Optimal UCCSD Singlet Amplitudes: [ -1.15179858e-08   5.65340587e-02]\n",
      "Classical CCSD Energy: -1.13727017465 Hartrees\n",
      "Exact FCI Energy: -1.13727017463 Hartrees\n",
      "Initial Energy of UCCSD with CCSD amplitudes: -1.13726981456 Hartrees\n"
     ]
    }
   ],
   "source": [
    "n_amplitudes = uccsd_singlet_paramsize(molecule.n_qubits, molecule.n_electrons)\n",
    "initial_amplitudes = [0, 0.05677]\n",
    "initial_energy = energy_objective(initial_amplitudes)\n",
    "\n",
    "# Run VQE Optimization to find new CCSD parameters\n",
    "opt_result = minimize(energy_objective, initial_amplitudes,\n",
    "                      method=\"CG\", options={'disp':True})\n",
    "\n",
    "opt_energy, opt_amplitudes = opt_result.fun, opt_result.x\n",
    "print(\"\\nOptimal UCCSD Singlet Energy: {}\".format(opt_energy))\n",
    "print(\"Optimal UCCSD Singlet Amplitudes: {}\".format(opt_amplitudes))\n",
    "print(\"Classical CCSD Energy: {} Hartrees\".format(molecule.ccsd_energy))\n",
    "print(\"Exact FCI Energy: {} Hartrees\".format(molecule.fci_energy))\n",
    "print(\"Initial Energy of UCCSD with CCSD amplitudes: {} Hartrees\".format(initial_energy))"
   ]
  },
  {
   "cell_type": "markdown",
   "metadata": {
    "deletable": true,
    "editable": true
   },
   "source": [
    "As we can see, the optimization terminates extremely quickly because the classical coupled cluster amplitudes were (for this molecule) already optimal. We can now use ProjectQ to compile this simulation circuit to a set of two-body quanutm gates."
   ]
  },
  {
   "cell_type": "code",
   "execution_count": 19,
   "metadata": {
    "collapsed": false,
    "deletable": true,
    "editable": true
   },
   "outputs": [
    {
     "name": "stdout",
     "output_type": "stream",
     "text": [
      "Allocate | Qureg[0]\n",
      "Allocate | Qureg[1]\n",
      "Allocate | Qureg[2]\n",
      "Allocate | Qureg[3]\n",
      "X | Qureg[0]\n",
      "X | Qureg[1]\n",
      "Rx(1.57079632679) | Qureg[1]\n",
      "H | Qureg[3]\n",
      "CX | ( Qureg[1], Qureg[2] )\n",
      "CX | ( Qureg[2], Qureg[3] )\n",
      "Rz(12.5663706028) | Qureg[3]\n",
      "CX | ( Qureg[2], Qureg[3] )\n",
      "CX | ( Qureg[1], Qureg[2] )\n",
      "H | Qureg[3]\n",
      "Rx(10.9955742876) | Qureg[1]\n",
      "Rx(1.57079632679) | Qureg[0]\n",
      "H | Qureg[1]\n",
      "Rx(1.57079632679) | Qureg[2]\n",
      "Rx(1.57079632679) | Qureg[3]\n",
      "CX | ( Qureg[0], Qureg[1] )\n",
      "CX | ( Qureg[1], Qureg[2] )\n",
      "CX | ( Qureg[2], Qureg[3] )\n",
      "Rz(12.538103585) | Qureg[3]\n",
      "CX | ( Qureg[2], Qureg[3] )\n",
      "CX | ( Qureg[1], Qureg[2] )\n",
      "CX | ( Qureg[0], Qureg[1] )\n",
      "Rx(10.9955742876) | Qureg[3]\n",
      "Rx(10.9955742876) | Qureg[2]\n",
      "H | Qureg[1]\n",
      "Rx(10.9955742876) | Qureg[0]\n",
      "H | Qureg[0]\n",
      "H | Qureg[1]\n",
      "Rx(1.57079632679) | Qureg[2]\n",
      "H | Qureg[3]\n",
      "CX | ( Qureg[0], Qureg[1] )\n",
      "CX | ( Qureg[1], Qureg[2] )\n",
      "CX | ( Qureg[2], Qureg[3] )\n",
      "Rz(12.538103585) | Qureg[3]\n",
      "CX | ( Qureg[2], Qureg[3] )\n",
      "CX | ( Qureg[1], Qureg[2] )\n",
      "CX | ( Qureg[0], Qureg[1] )\n",
      "H | Qureg[3]\n",
      "Rx(10.9955742876) | Qureg[2]\n",
      "H | Qureg[1]\n",
      "H | Qureg[0]\n",
      "H | Qureg[1]\n",
      "Rx(1.57079632679) | Qureg[3]\n",
      "CX | ( Qureg[1], Qureg[2] )\n",
      "CX | ( Qureg[2], Qureg[3] )\n",
      "Rz(1.15179857877e-08) | Qureg[3]\n",
      "CX | ( Qureg[2], Qureg[3] )\n",
      "CX | ( Qureg[1], Qureg[2] )\n",
      "Rx(10.9955742876) | Qureg[3]\n",
      "H | Qureg[1]\n",
      "H | Qureg[0]\n",
      "Rx(1.57079632679) | Qureg[1]\n",
      "H | Qureg[2]\n",
      "H | Qureg[3]\n",
      "CX | ( Qureg[0], Qureg[1] )\n",
      "CX | ( Qureg[1], Qureg[2] )\n",
      "CX | ( Qureg[2], Qureg[3] )\n",
      "Rz(0.0282670293342) | Qureg[3]\n",
      "CX | ( Qureg[2], Qureg[3] )\n",
      "CX | ( Qureg[1], Qureg[2] )\n",
      "CX | ( Qureg[0], Qureg[1] )\n",
      "H | Qureg[3]\n",
      "H | Qureg[2]\n",
      "Rx(10.9955742876) | Qureg[1]\n",
      "H | Qureg[0]\n",
      "H | Qureg[0]\n",
      "H | Qureg[1]\n",
      "H | Qureg[2]\n",
      "Rx(1.57079632679) | Qureg[3]\n",
      "CX | ( Qureg[0], Qureg[1] )\n",
      "CX | ( Qureg[1], Qureg[2] )\n",
      "CX | ( Qureg[2], Qureg[3] )\n",
      "Rz(12.538103585) | Qureg[3]\n",
      "CX | ( Qureg[2], Qureg[3] )\n",
      "CX | ( Qureg[1], Qureg[2] )\n",
      "CX | ( Qureg[0], Qureg[1] )\n",
      "Rx(10.9955742876) | Qureg[3]\n",
      "H | Qureg[2]\n",
      "H | Qureg[1]\n",
      "H | Qureg[0]\n",
      "Rx(1.57079632679) | Qureg[0]\n",
      "H | Qureg[1]\n",
      "H | Qureg[2]\n",
      "H | Qureg[3]\n",
      "CX | ( Qureg[0], Qureg[1] )\n",
      "CX | ( Qureg[1], Qureg[2] )\n",
      "CX | ( Qureg[2], Qureg[3] )\n",
      "Rz(0.0282670293342) | Qureg[3]\n",
      "CX | ( Qureg[2], Qureg[3] )\n",
      "CX | ( Qureg[1], Qureg[2] )\n",
      "CX | ( Qureg[0], Qureg[1] )\n",
      "H | Qureg[3]\n",
      "H | Qureg[2]\n",
      "H | Qureg[1]\n",
      "Rx(10.9955742876) | Qureg[0]\n",
      "Rx(1.57079632679) | Qureg[0]\n",
      "H | Qureg[2]\n",
      "CX | ( Qureg[0], Qureg[1] )\n",
      "CX | ( Qureg[1], Qureg[2] )\n",
      "Rz(12.5663706028) | Qureg[2]\n",
      "CX | ( Qureg[1], Qureg[2] )\n",
      "CX | ( Qureg[0], Qureg[1] )\n",
      "H | Qureg[2]\n",
      "Rx(10.9955742876) | Qureg[0]\n",
      "H | Qureg[0]\n",
      "Rx(1.57079632679) | Qureg[2]\n",
      "CX | ( Qureg[0], Qureg[1] )\n",
      "CX | ( Qureg[1], Qureg[2] )\n",
      "Rz(1.15179857877e-08) | Qureg[2]\n",
      "CX | ( Qureg[1], Qureg[2] )\n",
      "CX | ( Qureg[0], Qureg[1] )\n",
      "Rx(10.9955742876) | Qureg[2]\n",
      "H | Qureg[0]\n",
      "H | Qureg[0]\n",
      "Rx(1.57079632679) | Qureg[1]\n",
      "Rx(1.57079632679) | Qureg[2]\n",
      "Rx(1.57079632679) | Qureg[3]\n",
      "CX | ( Qureg[0], Qureg[1] )\n",
      "CX | ( Qureg[1], Qureg[2] )\n",
      "CX | ( Qureg[2], Qureg[3] )\n",
      "Rz(12.538103585) | Qureg[3]\n",
      "CX | ( Qureg[2], Qureg[3] )\n",
      "CX | ( Qureg[1], Qureg[2] )\n",
      "CX | ( Qureg[0], Qureg[1] )\n",
      "Rx(10.9955742876) | Qureg[3]\n",
      "Rx(10.9955742876) | Qureg[2]\n",
      "Rx(10.9955742876) | Qureg[1]\n",
      "H | Qureg[0]\n",
      "Rx(1.57079632679) | Qureg[0]\n",
      "Rx(1.57079632679) | Qureg[1]\n",
      "Rx(1.57079632679) | Qureg[2]\n",
      "H | Qureg[3]\n",
      "CX | ( Qureg[0], Qureg[1] )\n",
      "CX | ( Qureg[1], Qureg[2] )\n",
      "CX | ( Qureg[2], Qureg[3] )\n",
      "Rz(0.0282670293342) | Qureg[3]\n",
      "CX | ( Qureg[2], Qureg[3] )\n",
      "CX | ( Qureg[1], Qureg[2] )\n",
      "CX | ( Qureg[0], Qureg[1] )\n",
      "H | Qureg[3]\n",
      "Rx(10.9955742876) | Qureg[2]\n",
      "Rx(10.9955742876) | Qureg[1]\n",
      "Rx(10.9955742876) | Qureg[0]\n",
      "Rx(1.57079632679) | Qureg[0]\n",
      "Rx(1.57079632679) | Qureg[1]\n",
      "H | Qureg[2]\n",
      "Rx(1.57079632679) | Qureg[3]\n",
      "CX | ( Qureg[0], Qureg[1] )\n",
      "CX | ( Qureg[1], Qureg[2] )\n",
      "CX | ( Qureg[2], Qureg[3] )\n",
      "Rz(0.0282670293342) | Qureg[3]\n",
      "CX | ( Qureg[2], Qureg[3] )\n",
      "CX | ( Qureg[1], Qureg[2] )\n",
      "CX | ( Qureg[0], Qureg[1] )\n",
      "Rx(10.9955742876) | Qureg[3]\n",
      "H | Qureg[2]\n",
      "Rx(10.9955742876) | Qureg[1]\n",
      "Rx(10.9955742876) | Qureg[0]\n"
     ]
    }
   ],
   "source": [
    "compiler_engine = uccsd_trotter_engine(CommandPrinter())\n",
    "wavefunction = compiler_engine.allocate_qureg(molecule.n_qubits)\n",
    "for i in range(molecule.n_electrons):\n",
    "    X | wavefunction[i]\n",
    "\n",
    "# Build the circuit and act it on the wavefunction\n",
    "evolution_operator = uccsd_singlet_evolution(opt_amplitudes, \n",
    "                                             molecule.n_qubits, \n",
    "                                             molecule.n_electrons)\n",
    "evolution_operator | wavefunction\n",
    "compiler_engine.flush()"
   ]
  },
  {
   "cell_type": "code",
   "execution_count": null,
   "metadata": {
    "collapsed": true
   },
   "outputs": [],
   "source": []
  }
 ],
 "metadata": {
  "anaconda-cloud": {},
  "kernelspec": {
   "display_name": "Python [conda root]",
   "language": "python",
   "name": "conda-root-py"
  },
  "language_info": {
   "codemirror_mode": {
    "name": "ipython",
    "version": 2
   },
   "file_extension": ".py",
   "mimetype": "text/x-python",
   "name": "python",
   "nbconvert_exporter": "python",
   "pygments_lexer": "ipython2",
   "version": "2.7.12"
  }
 },
 "nbformat": 4,
 "nbformat_minor": 0
}
